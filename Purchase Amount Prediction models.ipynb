{
 "cells": [
  {
   "cell_type": "code",
   "execution_count": 1,
   "metadata": {
    "_uuid": "a9a706e4a56a9bd042cfc37a4716f70ee62cfb93"
   },
   "outputs": [
    {
     "name": "stdout",
     "output_type": "stream",
     "text": [
      "550068\n"
     ]
    },
    {
     "data": {
      "text/html": [
       "<div>\n",
       "<style scoped>\n",
       "    .dataframe tbody tr th:only-of-type {\n",
       "        vertical-align: middle;\n",
       "    }\n",
       "\n",
       "    .dataframe tbody tr th {\n",
       "        vertical-align: top;\n",
       "    }\n",
       "\n",
       "    .dataframe thead th {\n",
       "        text-align: right;\n",
       "    }\n",
       "</style>\n",
       "<table border=\"1\" class=\"dataframe\">\n",
       "  <thead>\n",
       "    <tr style=\"text-align: right;\">\n",
       "      <th></th>\n",
       "      <th>User_ID</th>\n",
       "      <th>Product_ID</th>\n",
       "      <th>Gender</th>\n",
       "      <th>Age</th>\n",
       "      <th>Occupation</th>\n",
       "      <th>City_Category</th>\n",
       "      <th>Stay_In_Current_City_Years</th>\n",
       "      <th>Marital_Status</th>\n",
       "      <th>Product_Category_1</th>\n",
       "      <th>Product_Category_2</th>\n",
       "      <th>Product_Category_3</th>\n",
       "      <th>Purchase</th>\n",
       "    </tr>\n",
       "  </thead>\n",
       "  <tbody>\n",
       "    <tr>\n",
       "      <th>0</th>\n",
       "      <td>1000001</td>\n",
       "      <td>P00069042</td>\n",
       "      <td>F</td>\n",
       "      <td>0-17</td>\n",
       "      <td>10</td>\n",
       "      <td>A</td>\n",
       "      <td>2</td>\n",
       "      <td>0</td>\n",
       "      <td>3</td>\n",
       "      <td>NaN</td>\n",
       "      <td>NaN</td>\n",
       "      <td>8370</td>\n",
       "    </tr>\n",
       "    <tr>\n",
       "      <th>1</th>\n",
       "      <td>1000001</td>\n",
       "      <td>P00248942</td>\n",
       "      <td>F</td>\n",
       "      <td>0-17</td>\n",
       "      <td>10</td>\n",
       "      <td>A</td>\n",
       "      <td>2</td>\n",
       "      <td>0</td>\n",
       "      <td>1</td>\n",
       "      <td>6.0</td>\n",
       "      <td>14.0</td>\n",
       "      <td>15200</td>\n",
       "    </tr>\n",
       "    <tr>\n",
       "      <th>2</th>\n",
       "      <td>1000001</td>\n",
       "      <td>P00087842</td>\n",
       "      <td>F</td>\n",
       "      <td>0-17</td>\n",
       "      <td>10</td>\n",
       "      <td>A</td>\n",
       "      <td>2</td>\n",
       "      <td>0</td>\n",
       "      <td>12</td>\n",
       "      <td>NaN</td>\n",
       "      <td>NaN</td>\n",
       "      <td>1422</td>\n",
       "    </tr>\n",
       "    <tr>\n",
       "      <th>3</th>\n",
       "      <td>1000001</td>\n",
       "      <td>P00085442</td>\n",
       "      <td>F</td>\n",
       "      <td>0-17</td>\n",
       "      <td>10</td>\n",
       "      <td>A</td>\n",
       "      <td>2</td>\n",
       "      <td>0</td>\n",
       "      <td>12</td>\n",
       "      <td>14.0</td>\n",
       "      <td>NaN</td>\n",
       "      <td>1057</td>\n",
       "    </tr>\n",
       "    <tr>\n",
       "      <th>4</th>\n",
       "      <td>1000002</td>\n",
       "      <td>P00285442</td>\n",
       "      <td>M</td>\n",
       "      <td>55+</td>\n",
       "      <td>16</td>\n",
       "      <td>C</td>\n",
       "      <td>4+</td>\n",
       "      <td>0</td>\n",
       "      <td>8</td>\n",
       "      <td>NaN</td>\n",
       "      <td>NaN</td>\n",
       "      <td>7969</td>\n",
       "    </tr>\n",
       "  </tbody>\n",
       "</table>\n",
       "</div>"
      ],
      "text/plain": [
       "   User_ID Product_ID Gender   Age  Occupation City_Category  \\\n",
       "0  1000001  P00069042      F  0-17          10             A   \n",
       "1  1000001  P00248942      F  0-17          10             A   \n",
       "2  1000001  P00087842      F  0-17          10             A   \n",
       "3  1000001  P00085442      F  0-17          10             A   \n",
       "4  1000002  P00285442      M   55+          16             C   \n",
       "\n",
       "  Stay_In_Current_City_Years  Marital_Status  Product_Category_1  \\\n",
       "0                          2               0                   3   \n",
       "1                          2               0                   1   \n",
       "2                          2               0                  12   \n",
       "3                          2               0                  12   \n",
       "4                         4+               0                   8   \n",
       "\n",
       "   Product_Category_2  Product_Category_3  Purchase  \n",
       "0                 NaN                 NaN      8370  \n",
       "1                 6.0                14.0     15200  \n",
       "2                 NaN                 NaN      1422  \n",
       "3                14.0                 NaN      1057  \n",
       "4                 NaN                 NaN      7969  "
      ]
     },
     "execution_count": 1,
     "metadata": {},
     "output_type": "execute_result"
    }
   ],
   "source": [
    "import sys\n",
    "import numpy as np\n",
    "import pandas as pd\n",
    "import xgboost as xgb\n",
    "\n",
    "from sklearn.preprocessing import LabelEncoder\n",
    "\n",
    "dataset = pd.read_csv(\"train.csv\")\n",
    "print(len(dataset))\n",
    "dataset.head()"
   ]
  },
  {
   "cell_type": "code",
   "execution_count": 2,
   "metadata": {
    "_uuid": "0bba1b74bd36a53fac900aa819f5f77d92f0a4fa"
   },
   "outputs": [],
   "source": [
    "dataset.drop(\"Product_Category_2\", axis = 1, inplace =True)\n",
    "dataset.drop(\"Product_Category_3\", axis = 1, inplace =True)"
   ]
  },
  {
   "cell_type": "code",
   "execution_count": 3,
   "metadata": {},
   "outputs": [],
   "source": [
    "## Set up Target Variable and Independent Variable\n",
    "X = dataset.iloc[:, :-1]\n",
    "Y = dataset.iloc[:, -1]"
   ]
  },
  {
   "cell_type": "code",
   "execution_count": 4,
   "metadata": {},
   "outputs": [],
   "source": [
    "## Split dataset into Training and Testing\n",
    "from sklearn.model_selection import train_test_split\n",
    "X_train, X_test, Y_train, Y_test = train_test_split(X,Y, test_size = 0.2)"
   ]
  },
  {
   "cell_type": "code",
   "execution_count": 5,
   "metadata": {
    "_uuid": "65a8434827c8171a2c20ec7ac9c112092a0f2b7c"
   },
   "outputs": [
    {
     "data": {
      "text/html": [
       "<div>\n",
       "<style scoped>\n",
       "    .dataframe tbody tr th:only-of-type {\n",
       "        vertical-align: middle;\n",
       "    }\n",
       "\n",
       "    .dataframe tbody tr th {\n",
       "        vertical-align: top;\n",
       "    }\n",
       "\n",
       "    .dataframe thead th {\n",
       "        text-align: right;\n",
       "    }\n",
       "</style>\n",
       "<table border=\"1\" class=\"dataframe\">\n",
       "  <thead>\n",
       "    <tr style=\"text-align: right;\">\n",
       "      <th></th>\n",
       "      <th>Purchase</th>\n",
       "    </tr>\n",
       "  </thead>\n",
       "  <tbody>\n",
       "    <tr>\n",
       "      <th>0</th>\n",
       "      <td>3538</td>\n",
       "    </tr>\n",
       "    <tr>\n",
       "      <th>1</th>\n",
       "      <td>19519</td>\n",
       "    </tr>\n",
       "    <tr>\n",
       "      <th>2</th>\n",
       "      <td>15434</td>\n",
       "    </tr>\n",
       "    <tr>\n",
       "      <th>3</th>\n",
       "      <td>7020</td>\n",
       "    </tr>\n",
       "    <tr>\n",
       "      <th>4</th>\n",
       "      <td>20038</td>\n",
       "    </tr>\n",
       "  </tbody>\n",
       "</table>\n",
       "</div>"
      ],
      "text/plain": [
       "   Purchase\n",
       "0      3538\n",
       "1     19519\n",
       "2     15434\n",
       "3      7020\n",
       "4     20038"
      ]
     },
     "execution_count": 5,
     "metadata": {},
     "output_type": "execute_result"
    }
   ],
   "source": [
    "Y_test = Y_test.reset_index()\n",
    "Y_test.drop('index', axis = 1, inplace = True)\n",
    "Y_test.head()"
   ]
  },
  {
   "cell_type": "code",
   "execution_count": 6,
   "metadata": {
    "_cell_guid": "79c7e3d0-c299-4dcb-8224-4455121ee9b0",
    "_uuid": "d629ff2d2480ee46fbb7e2d37f6b5fab8052498a",
    "scrolled": true
   },
   "outputs": [
    {
     "name": "stderr",
     "output_type": "stream",
     "text": [
      "/home/harry/anaconda3/lib/python3.6/site-packages/ipykernel_launcher.py:4: SettingWithCopyWarning: \n",
      "A value is trying to be set on a copy of a slice from a DataFrame.\n",
      "Try using .loc[row_indexer,col_indexer] = value instead\n",
      "\n",
      "See the caveats in the documentation: http://pandas.pydata.org/pandas-docs/stable/indexing.html#indexing-view-versus-copy\n",
      "  after removing the cwd from sys.path.\n",
      "/home/harry/anaconda3/lib/python3.6/site-packages/ipykernel_launcher.py:5: SettingWithCopyWarning: \n",
      "A value is trying to be set on a copy of a slice from a DataFrame.\n",
      "Try using .loc[row_indexer,col_indexer] = value instead\n",
      "\n",
      "See the caveats in the documentation: http://pandas.pydata.org/pandas-docs/stable/indexing.html#indexing-view-versus-copy\n",
      "  \"\"\"\n"
     ]
    }
   ],
   "source": [
    "# Label Encoding\n",
    "le = LabelEncoder()\n",
    "for i in X_train.columns:\n",
    "    X_train[i] = le.fit_transform(X_train[i])\n",
    "    X_test[i] = le.fit_transform(X_test[i])\n"
   ]
  },
  {
   "cell_type": "code",
   "execution_count": 18,
   "metadata": {
    "_uuid": "df91ea14e97787e8f50af0f3c583ddecbb5ad42a"
   },
   "outputs": [],
   "source": [
    "# Setting up Model's Parameters\n",
    "dtrain = xgb.DMatrix(X_train, label=Y_train, missing=np.nan)\n",
    "\n",
    "param = {'objective': 'reg:linear', 'booster': 'gbtree', 'silent': 1,\n",
    "         'max_depth': 100, 'eta': 0.1, 'nthread': 4,\n",
    "         'subsample': 0.8, 'colsample_bytree': 0.8, 'min_child_weight': 5,\n",
    "         'max_delta_step': 0, 'gamma': 0}\n",
    "num_round = 200"
   ]
  },
  {
   "cell_type": "code",
   "execution_count": 19,
   "metadata": {
    "_uuid": "50ea05d2a2455fcf39eae5610b81dcfc78e0a213"
   },
   "outputs": [],
   "source": [
    "## Training the model.\n",
    "clf = xgb.train(param, dtrain, num_round)\n",
    "dtest = xgb.DMatrix(X_test, missing=np.nan)"
   ]
  },
  {
   "cell_type": "code",
   "execution_count": 20,
   "metadata": {},
   "outputs": [],
   "source": [
    "## Prediction\n",
    "test_preds = clf.predict(dtest)"
   ]
  },
  {
   "cell_type": "code",
   "execution_count": 21,
   "metadata": {},
   "outputs": [
    {
     "name": "stdout",
     "output_type": "stream",
     "text": [
      "3611.750179042621\n"
     ]
    }
   ],
   "source": [
    "## Loss functions calculation\n",
    "rmse = 0\n",
    "count=0\n",
    "for i in test_preds:\n",
    "    rmse += (i - Y_test['Purchase'][count])**2\n",
    "    count+=1\n",
    "print((rmse/len(Y_test))**(1/2))\n"
   ]
  },
  {
   "cell_type": "code",
   "execution_count": 22,
   "metadata": {},
   "outputs": [],
   "source": [
    "# Setting up Model's Parameters\n",
    "dtrain = xgb.DMatrix(X_train, label=Y_train, missing=np.nan)\n",
    "\n",
    "param = {'objective': 'reg:linear', 'booster': 'gbtree', 'silent': 1,\n",
    "         'max_depth': 150, 'eta': 0.1, 'nthread': 4,\n",
    "         'subsample': 0.8, 'colsample_bytree': 0.8, 'min_child_weight': 10,\n",
    "         'max_delta_step': 0, 'gamma': 0}\n",
    "num_round = 200"
   ]
  },
  {
   "cell_type": "code",
   "execution_count": 23,
   "metadata": {},
   "outputs": [],
   "source": [
    "## Training the model.\n",
    "clf = xgb.train(param, dtrain, num_round)\n",
    "dtest = xgb.DMatrix(X_test, missing=np.nan)"
   ]
  },
  {
   "cell_type": "code",
   "execution_count": 24,
   "metadata": {},
   "outputs": [],
   "source": [
    "## Prediction\n",
    "test_preds = clf.predict(dtest)"
   ]
  },
  {
   "cell_type": "code",
   "execution_count": 25,
   "metadata": {},
   "outputs": [
    {
     "name": "stdout",
     "output_type": "stream",
     "text": [
      "3588.1278236542344\n"
     ]
    }
   ],
   "source": [
    "## Loss functions calculation\n",
    "rmse = 0\n",
    "count=0\n",
    "for i in test_preds:\n",
    "    rmse += (i - Y_test['Purchase'][count])**2\n",
    "    count+=1\n",
    "print((rmse/len(Y_test))**(1/2))\n"
   ]
  },
  {
   "cell_type": "code",
   "execution_count": 26,
   "metadata": {},
   "outputs": [],
   "source": [
    "# Setting up Model's Parameters\n",
    "dtrain = xgb.DMatrix(X_train, label=Y_train, missing=np.nan)\n",
    "\n",
    "param = {'objective': 'reg:linear', 'booster': 'gbtree', 'silent': 1,\n",
    "         'max_depth': 250, 'eta': 0.1, 'nthread': 4,\n",
    "         'subsample': 0.8, 'colsample_bytree': 0.8, 'min_child_weight': 20,\n",
    "         'max_delta_step': 0, 'gamma': 0}\n",
    "num_round = 200"
   ]
  },
  {
   "cell_type": "code",
   "execution_count": 27,
   "metadata": {},
   "outputs": [],
   "source": [
    "## Training the model.\n",
    "clf = xgb.train(param, dtrain, num_round)\n",
    "dtest = xgb.DMatrix(X_test, missing=np.nan)"
   ]
  },
  {
   "cell_type": "code",
   "execution_count": 28,
   "metadata": {},
   "outputs": [],
   "source": [
    "## Prediction\n",
    "test_preds = clf.predict(dtest)"
   ]
  },
  {
   "cell_type": "code",
   "execution_count": 50,
   "metadata": {},
   "outputs": [
    {
     "name": "stdout",
     "output_type": "stream",
     "text": [
      "-338.9166162659953\n"
     ]
    }
   ],
   "source": [
    "## Loss functions calculation\n",
    "rmse = 0\n",
    "count=0\n",
    "for i in test_preds:\n",
    "    rmse += (i - Y_test['Purchase'][count])\n",
    "    count+=1\n",
    "print(rmse/len(Y_test))\n"
   ]
  },
  {
   "cell_type": "code",
   "execution_count": 30,
   "metadata": {},
   "outputs": [],
   "source": [
    "# Setting up Model's Parameters\n",
    "dtrain = xgb.DMatrix(X_train, label=Y_train, missing=np.nan)\n",
    "\n",
    "# param = {'objective': 'reg:linear', 'booster': 'gbtree', 'silent': 1,\n",
    "#          'max_depth': 100, 'eta': 0.1, 'nthread': 4,\n",
    "#          'subsample': 0.8, 'colsample_bytree': 0.8, 'min_child_weight': 5,\n",
    "#          'max_delta_step': 0, 'gamma': 0}\n",
    "# num_round = 200"
   ]
  },
  {
   "cell_type": "code",
   "execution_count": 37,
   "metadata": {},
   "outputs": [],
   "source": [
    "## Training the model.\n",
    "num_round = 200\n",
    "clf = xgb.train(dtrain=dtrain,params={})\n",
    "dtest = xgb.DMatrix(X_test, missing=np.nan)"
   ]
  },
  {
   "cell_type": "code",
   "execution_count": 41,
   "metadata": {},
   "outputs": [
    {
     "data": {
      "text/plain": [
       "{}"
      ]
     },
     "execution_count": 41,
     "metadata": {},
     "output_type": "execute_result"
    }
   ],
   "source": [
    "clf.attributes()"
   ]
  },
  {
   "cell_type": "code",
   "execution_count": 38,
   "metadata": {},
   "outputs": [],
   "source": [
    "## Prediction\n",
    "test_preds = clf.predict(dtest)"
   ]
  },
  {
   "cell_type": "code",
   "execution_count": 47,
   "metadata": {
    "_uuid": "8c6288e80b8f0035abf4a3e8f5c4f4c57bb60604"
   },
   "outputs": [
    {
     "name": "stdout",
     "output_type": "stream",
     "text": [
      "5023.060827959972\n"
     ]
    }
   ],
   "source": [
    "## Loss functions calculation\n",
    "rmse = 0\n",
    "count=0\n",
    "for i in dataset['Purchase']:\n",
    "    rmse += (i - meanVal)**2\n",
    "    count+=1\n",
    "print((rmse/len(dataset))**(1/2))\n"
   ]
  },
  {
   "cell_type": "code",
   "execution_count": 48,
   "metadata": {},
   "outputs": [
    {
     "name": "stdout",
     "output_type": "stream",
     "text": [
      "5023.060827959972\n"
     ]
    }
   ],
   "source": [
    "## Baseline Performance Model\n",
    "meanVal = sum(dataset['Purchase'])/len(dataset['Purchase'])\n",
    "rmse = 0\n",
    "count=0\n",
    "for i in dataset['Purchase']:\n",
    "    rmse += (i - meanVal)**2\n",
    "    count+=1\n",
    "print((rmse/len(dataset))**(1/2))"
   ]
  },
  {
   "cell_type": "code",
   "execution_count": 8,
   "metadata": {
    "_uuid": "35335bc814a0d51c1ee85dc8c74f50a1a72684fd"
   },
   "outputs": [
    {
     "name": "stderr",
     "output_type": "stream",
     "text": [
      "Using TensorFlow backend.\n"
     ]
    }
   ],
   "source": [
    "## custom root mean square function\n",
    "from keras import backend as K\n",
    "def root_mean_squared_error(y_true, y_pred):\n",
    "    return K.sqrt(K.mean(K.square(y_pred - y_true), axis=-1))"
   ]
  },
  {
   "cell_type": "code",
   "execution_count": 9,
   "metadata": {
    "_uuid": "49f40fe4dc138bec0fd1df7bb07d6267fa0fed19"
   },
   "outputs": [
    {
     "name": "stdout",
     "output_type": "stream",
     "text": [
      "WARNING:tensorflow:From /home/harry/anaconda3/lib/python3.6/site-packages/tensorflow/python/framework/op_def_library.py:263: colocate_with (from tensorflow.python.framework.ops) is deprecated and will be removed in a future version.\n",
      "Instructions for updating:\n",
      "Colocations handled automatically by placer.\n",
      "WARNING:tensorflow:From /home/harry/anaconda3/lib/python3.6/site-packages/tensorflow/python/ops/math_ops.py:3066: to_int32 (from tensorflow.python.ops.math_ops) is deprecated and will be removed in a future version.\n",
      "Instructions for updating:\n",
      "Use tf.cast instead.\n",
      "Epoch 1/35\n",
      "440054/440054 [==============================] - 22s 51us/step - loss: 4793.9484 - acc: 5.9084e-05\n",
      "Epoch 2/35\n",
      "440054/440054 [==============================] - 24s 54us/step - loss: 4151.5369 - acc: 9.9988e-05\n",
      "Epoch 3/35\n",
      "440054/440054 [==============================] - 21s 47us/step - loss: 3803.4613 - acc: 7.4991e-05\n",
      "Epoch 4/35\n",
      "440054/440054 [==============================] - 21s 47us/step - loss: 3486.0552 - acc: 9.7715e-05\n",
      "Epoch 5/35\n",
      "440054/440054 [==============================] - 21s 48us/step - loss: 3330.1821 - acc: 1.0453e-04\n",
      "Epoch 6/35\n",
      "440054/440054 [==============================] - 21s 48us/step - loss: 3273.8784 - acc: 1.3862e-04\n",
      "Epoch 7/35\n",
      "440054/440054 [==============================] - 21s 48us/step - loss: 3239.9489 - acc: 1.3180e-04\n",
      "Epoch 8/35\n",
      "440054/440054 [==============================] - 23s 52us/step - loss: 3213.1161 - acc: 1.2271e-04\n",
      "Epoch 9/35\n",
      "440054/440054 [==============================] - 21s 48us/step - loss: 3189.6675 - acc: 1.2953e-04\n",
      "Epoch 10/35\n",
      "440054/440054 [==============================] - 21s 47us/step - loss: 3167.6905 - acc: 1.4998e-04\n",
      "Epoch 11/35\n",
      "440054/440054 [==============================] - 23s 51us/step - loss: 3148.4563 - acc: 1.1135e-04\n",
      "Epoch 12/35\n",
      "440054/440054 [==============================] - 21s 48us/step - loss: 3134.2454 - acc: 9.3170e-05\n",
      "Epoch 13/35\n",
      "440054/440054 [==============================] - 21s 49us/step - loss: 3124.0950 - acc: 1.2726e-04\n",
      "Epoch 14/35\n",
      "440054/440054 [==============================] - 21s 47us/step - loss: 3116.3495 - acc: 1.2953e-04\n",
      "Epoch 15/35\n",
      "440054/440054 [==============================] - 22s 50us/step - loss: 3111.0780 - acc: 1.5453e-04\n",
      "Epoch 16/35\n",
      "440054/440054 [==============================] - 22s 49us/step - loss: 3107.7910 - acc: 1.0681e-04\n",
      "Epoch 17/35\n",
      "440054/440054 [==============================] - 23s 51us/step - loss: 3104.9049 - acc: 1.2953e-04\n",
      "Epoch 18/35\n",
      "440054/440054 [==============================] - 21s 48us/step - loss: 3101.9843 - acc: 1.3407e-04\n",
      "Epoch 19/35\n",
      "440054/440054 [==============================] - 21s 48us/step - loss: 3100.2488 - acc: 1.5680e-04\n",
      "Epoch 20/35\n",
      "440054/440054 [==============================] - 22s 51us/step - loss: 3099.8717 - acc: 1.3635e-04\n",
      "Epoch 21/35\n",
      "440054/440054 [==============================] - 21s 47us/step - loss: 3099.9112 - acc: 1.3407e-04\n",
      "Epoch 22/35\n",
      "440054/440054 [==============================] - 21s 47us/step - loss: 3098.2502 - acc: 1.6134e-04\n",
      "Epoch 23/35\n",
      "440054/440054 [==============================] - 21s 48us/step - loss: 3096.3000 - acc: 1.3180e-04\n",
      "Epoch 24/35\n",
      "440054/440054 [==============================] - 21s 47us/step - loss: 3095.3022 - acc: 1.5225e-04\n",
      "Epoch 25/35\n",
      "440054/440054 [==============================] - 21s 47us/step - loss: 3093.7540 - acc: 1.5225e-04\n",
      "Epoch 26/35\n",
      "440054/440054 [==============================] - 21s 47us/step - loss: 3092.7857 - acc: 1.4316e-04\n",
      "Epoch 27/35\n",
      "440054/440054 [==============================] - 21s 48us/step - loss: 3093.4411 - acc: 1.5453e-04\n",
      "Epoch 28/35\n",
      "440054/440054 [==============================] - 21s 47us/step - loss: 3092.6760 - acc: 1.3635e-04\n",
      "Epoch 29/35\n",
      "440054/440054 [==============================] - 21s 47us/step - loss: 3092.4483 - acc: 1.3635e-04\n",
      "Epoch 30/35\n",
      "440054/440054 [==============================] - 21s 47us/step - loss: 3091.4747 - acc: 1.4089e-04\n",
      "Epoch 31/35\n",
      "440054/440054 [==============================] - 21s 47us/step - loss: 3091.6501 - acc: 1.2726e-04\n",
      "Epoch 32/35\n",
      "440054/440054 [==============================] - 21s 48us/step - loss: 3090.7001 - acc: 1.4771e-04\n",
      "Epoch 33/35\n",
      "440054/440054 [==============================] - 21s 47us/step - loss: 3088.6907 - acc: 1.4771e-04\n",
      "Epoch 34/35\n",
      "440054/440054 [==============================] - 21s 47us/step - loss: 3086.9632 - acc: 1.3407e-04\n",
      "Epoch 35/35\n",
      "440054/440054 [==============================] - 21s 47us/step - loss: 3088.1281 - acc: 1.4089e-04\n"
     ]
    },
    {
     "data": {
      "text/plain": [
       "<keras.callbacks.History at 0x7fe47d141860>"
      ]
     },
     "execution_count": 9,
     "metadata": {},
     "output_type": "execute_result"
    }
   ],
   "source": [
    "## Neural Network\n",
    "import keras\n",
    "from keras.models import Sequential\n",
    "from keras.layers import Dense\n",
    "\n",
    "regressor = Sequential()\n",
    "regressor.add(Dense(units = X_train.shape[1], kernel_initializer = 'normal', \n",
    "                    activation = 'relu', input_dim = X_train.shape[1]))\n",
    "regressor.add(Dense(units = 6, kernel_initializer = 'normal', activation = 'relu'))\n",
    "regressor.add(Dense(units = 1, kernel_initializer = 'normal', activation = 'relu'))\n",
    "regressor.compile(optimizer = \"rmsprop\", loss = root_mean_squared_error, metrics =[\"accuracy\"])\n",
    "regressor.fit(X_train, Y_train, batch_size = 25, epochs = 35)"
   ]
  },
  {
   "cell_type": "code",
   "execution_count": 15,
   "metadata": {},
   "outputs": [],
   "source": [
    "from keras.models import load_model\n",
    "classifier.save(\"purchase_prediction.h5\")"
   ]
  },
  {
   "cell_type": "code",
   "execution_count": 16,
   "metadata": {},
   "outputs": [],
   "source": [
    "regressor = load_model(\"purchase_prediction.h5\", custom_objects={'root_mean_squared_error':root_mean_squared_error})"
   ]
  }
 ],
 "metadata": {
  "kernelspec": {
   "display_name": "Python 3",
   "language": "python",
   "name": "python3"
  },
  "language_info": {
   "codemirror_mode": {
    "name": "ipython",
    "version": 3
   },
   "file_extension": ".py",
   "mimetype": "text/x-python",
   "name": "python",
   "nbconvert_exporter": "python",
   "pygments_lexer": "ipython3",
   "version": "3.6.8"
  }
 },
 "nbformat": 4,
 "nbformat_minor": 1
}
